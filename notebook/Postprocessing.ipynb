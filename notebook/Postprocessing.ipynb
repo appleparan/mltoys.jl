{
 "cells": [
  {
   "cell_type": "code",
   "execution_count": 1,
   "metadata": {
    "scrolled": false
   },
   "outputs": [
    {
     "data": {
      "text/plain": [
       "Plots.PyPlotBackend()"
      ]
     },
     "execution_count": 1,
     "metadata": {},
     "output_type": "execute_result"
    }
   ],
   "source": [
    "ENV[\"GKS_ENCODING\"]=\"utf-8\"\n",
    "using Statistics\n",
    "using Dates, TimeZones\n",
    "using CSV, DataFrames, DataFramesMeta\n",
    "using JuliaDB\n",
    "using Plots, Plots.PlotMeasures\n",
    "using PyPlot\n",
    "using Formatting\n",
    "using StatsPlots\n",
    "using PyCall\n",
    "\n",
    "pyplot()"
   ]
  },
  {
   "cell_type": "code",
   "execution_count": 2,
   "metadata": {},
   "outputs": [],
   "source": [
    "function get_font(size::Integer)\n",
    "    Plots.font(family=\"Noto Sans KR\", pointsize=size)\n",
    "end\n",
    "\n",
    "font12 = get_font(12)\n",
    "font14 = get_font(14)\n",
    "font18 = get_font(18)\n",
    "font24 = get_font(24)\n",
    "font32 = get_font(32)\n",
    "default(titlefont=font32, guidefont=font24, tickfont=font24, legendfont=font24)"
   ]
  },
  {
   "cell_type": "code",
   "execution_count": 3,
   "metadata": {},
   "outputs": [
    {
     "data": {
      "text/plain": [
       "\"종로구\""
      ]
     },
     "execution_count": 3,
     "metadata": {},
     "output_type": "execute_result"
    }
   ],
   "source": [
    "stn_codes = [111121, 111123, 111131, 111141, 111142,\n",
    "    111151, 111152, 111161, 111171, 111181,\n",
    "    111191, 111201, 111212, 111221, 111231,\n",
    "    111241, 111251, 111261, 111262, 111273,\n",
    "    111274, 111281, 111291, 111301, 111311]\n",
    "stn_names = [\"중구\", \"종로구\", \"용산구\", \"광진구\", \"성동구\",\n",
    "    \"중랑구\", \"동대문구\", \"성북구\", \"도봉구\", \"은평구\",\n",
    "    \"서대문구\", \"마포구\", \"강서구\", \"구로구\", \"영등포구\",\n",
    "    \"동작구\", \"관악구\", \"강남구\", \"서초구\", \"송파구\",\n",
    "    \"강동구\", \"금천구\", \"강북구\", \"양천구\", \"노원구\"]\n",
    "stations = JuliaDB.table((code = stn_codes, name = stn_names))\n",
    "jongro_stn_code = 111123\n",
    "jongro_stn_name = \"종로구\""
   ]
  },
  {
   "cell_type": "code",
   "execution_count": 4,
   "metadata": {},
   "outputs": [
    {
     "data": {
      "text/plain": [
       "2018-11-10T23:00:00"
      ]
     },
     "execution_count": 4,
     "metadata": {},
     "output_type": "execute_result"
    }
   ],
   "source": [
    "case_name = \"1910_OptimumS5\"\n",
    "output_size = 24\n",
    "zoom_mindate = DateTime(2018, 1, 1, 1)\n",
    "zoom_maxdate = DateTime(2018, 12, 31, 23)\n",
    "zoom_sdate = DateTime(2018, 7, 1, 1)\n",
    "zoom_fdate = DateTime(2018, 7, 10, 23)\n",
    "zoom_sdate2 = DateTime(2018, 11, 1, 1)\n",
    "zoom_fdate2 = DateTime(2018, 11, 10, 23)"
   ]
  },
  {
   "cell_type": "code",
   "execution_count": 5,
   "metadata": {},
   "outputs": [
    {
     "data": {
      "text/plain": [
       "\"/home/appleparan/data/1910_OptimumS5/pearson_corr.csv\""
      ]
     },
     "execution_count": 5,
     "metadata": {},
     "output_type": "execute_result"
    }
   ],
   "source": [
    "feature_csv = \"/home/appleparan/data/\" * case_name * \"/post/feature/feature_stats.csv\"\n",
    "station_csv = \"/home/appleparan/data/\" * case_name * \"/post/station/station_stats.csv\"\n",
    "forecast_csv = \"/home/appleparan/data/\" * case_name * \"/post/forecast/forecast_stats.csv\"\n",
    "pearson_corr_csv = \"/home/appleparan/data/\" * case_name * \"/pearson_corr.csv\""
   ]
  },
  {
   "cell_type": "code",
   "execution_count": 6,
   "metadata": {},
   "outputs": [
    {
     "data": {
      "text/plain": [
       "\"yyyymmddHH\""
      ]
     },
     "execution_count": 6,
     "metadata": {},
     "output_type": "execute_result"
    }
   ],
   "source": [
    "ENV[\"GKSwstype\"] = \"100\"\n",
    "ENV[\"GKS_ENCODING\"] = \"utf-8\"\n",
    "const BG_COLOR = RGB(255/255, 255/255, 255/255)\n",
    "const LN_COLOR = RGB(67/255, 75/255, 86/255)\n",
    "const MK_COLOR = RGB(67/255, 75/255, 86/255)\n",
    "const LN01_COLOR = RGB(202/255,0/255,32/255)\n",
    "const LN02_COLOR = RGB(5/255,113/255,176/255)\n",
    "const FL01_COLOR = RGB(239/255, 138/255, 98/255)\n",
    "const FL02_COLOR = RGB(103/255, 169/255, 207/255)\n",
    "const datefmt = \"yyyymmddHH\"    "
   ]
  },
  {
   "cell_type": "markdown",
   "metadata": {},
   "source": [
    "# Zoomed Plot"
   ]
  },
  {
   "cell_type": "code",
   "execution_count": 7,
   "metadata": {},
   "outputs": [
    {
     "data": {
      "text/plain": [
       "plot_DNN_lineplot (generic function with 1 method)"
      ]
     },
     "execution_count": 7,
     "metadata": {},
     "output_type": "execute_result"
    }
   ],
   "source": [
    "function plot_DNN_lineplot(stn_code, stn_name, s_date::DateTime, f_date::DateTime, ycol::Symbol)\n",
    "    output_size = 24\n",
    "    for hour in 1:24 \n",
    "        hour_pad = lpad(hour, 2, '0')\n",
    "        output_dir = \"/home/appleparan/data/\" * case_name * \"/post/station/$(hour_pad)/\"\n",
    "        csv_path = output_dir *\n",
    "            string(ycol) * \"_\" *\n",
    "            string(stn_code) * \"_\" *\n",
    "            stn_name * \"_plottable_$(hour_pad)h.csv\"\n",
    "        plot_path = output_dir *\n",
    "            string(ycol) * \"_\" *\n",
    "            string(stn_code) * \"_\" *\n",
    "            stn_name * \"_\" * \n",
    "            Dates.format(s_date + Dates.Hour(1), datefmt) * \"_\"  *\n",
    "            Dates.format(f_date + Dates.Hour(1), datefmt) * \"_$(hour_pad)h_line\"\n",
    "        \n",
    "        # load data\n",
    "        df_raw = CSV.read(csv_path)\n",
    "        df = @linq df_raw |>\n",
    "            where(:date .>= s_date + Dates.Hour(hour) , :date .<= f_date + Dates.Hour(hour))\n",
    "\n",
    "        gr(size = (2560, 1080))\n",
    "        pl1 = Plots.plot(df[:, :date], df[:, :y],\n",
    "            ylim = (0.0, \n",
    "                max(maximum(df[:, :y]), maximum(df[:, :yhat]))),\n",
    "            line=:solid, linewidth=5, label=\"obs.\",\n",
    "            guidefontsize = 24, titlefontsize = 32, tickfontsize = 24, legendfontsize = 24, margin=15px,\n",
    "            guidefontcolor = LN_COLOR, titlefontcolor = LN_COLOR, tickfontcolor = LN_COLOR, legendfontcolor = LN_COLOR,\n",
    "            background_color = BG_COLOR, color=LN01_COLOR,\n",
    "            title=\"$(String(ycol)) in dates ($(hour)h) at \" * stn_name, \n",
    "            xlabel=\"date\", ylabel=String(ycol), legend=:top)\n",
    "        pl1 = Plots.plot!(df[:, :date], df[:, :yhat],\n",
    "            line=:solid, linewidth=5, color=LN02_COLOR, label=\"model\")\n",
    "        Plots.png(pl1, plot_path * \".png\")\n",
    "        Plots.svg(pl1, plot_path * \".svg\")\n",
    "    end\n",
    "end"
   ]
  },
  {
   "cell_type": "code",
   "execution_count": null,
   "metadata": {},
   "outputs": [
    {
     "name": "stdout",
     "output_type": "stream",
     "text": [
      "(ycol, stn[:name]) = (:PM25, \"중구\")\n",
      "(ycol, stn[:name]) = (:PM25, \"종로구\")\n",
      "(ycol, stn[:name]) = (:PM25, \"용산구\")\n",
      "(ycol, stn[:name]) = (:PM25, \"광진구\")\n",
      "(ycol, stn[:name]) = (:PM25, \"성동구\")\n",
      "(ycol, stn[:name]) = (:PM25, \"중랑구\")\n",
      "(ycol, stn[:name]) = (:PM25, \"동대문구\")\n",
      "(ycol, stn[:name]) = (:PM25, \"성북구\")\n",
      "(ycol, stn[:name]) = (:PM25, \"도봉구\")\n",
      "(ycol, stn[:name]) = (:PM25, \"은평구\")\n"
     ]
    }
   ],
   "source": [
    "for ycol in [:PM25, :PM10]\n",
    "    for stn in stations\n",
    "        @show ycol, stn[:name]\n",
    "        # quartely plot\n",
    "        plot_DNN_lineplot( stn[:code], stn[:name], DateTime(2018, 1, 4, 1), DateTime(2018, 3, 31, 23), ycol)\n",
    "        plot_DNN_lineplot( stn[:code], stn[:name], DateTime(2018, 4, 1, 1), DateTime(2018, 6, 30, 23), ycol)\n",
    "        plot_DNN_lineplot( stn[:code], stn[:name], DateTime(2018, 7, 1, 1), DateTime(2018, 9, 30, 23), ycol)\n",
    "        plot_DNN_lineplot( stn[:code], stn[:name], DateTime(2018, 10, 1, 1), DateTime(2018, 12, 31, 23), ycol)\n",
    "        \n",
    "        # 10 days plot\n",
    "        plot_DNN_lineplot( stn[:code], stn[:name], zoom_sdate, zoom_fdate, ycol)\n",
    "        plot_DNN_lineplot( stn[:code], stn[:name], zoom_sdate2, zoom_fdate2, ycol)\n",
    "    end\n",
    "end"
   ]
  },
  {
   "cell_type": "markdown",
   "metadata": {},
   "source": [
    "# Station Line Plot"
   ]
  },
  {
   "cell_type": "code",
   "execution_count": null,
   "metadata": {},
   "outputs": [],
   "source": [
    "#gr(size = (1920, 1080))"
   ]
  },
  {
   "cell_type": "code",
   "execution_count": null,
   "metadata": {},
   "outputs": [],
   "source": [
    "function plot_eval_per_station(evalprop::Symbol, base_stn_code::Integer, base_stn_name::String, ycol::Symbol)\n",
    "    df = CSV.read(station_csv)\n",
    "    output_dir = \"/home/appleparan/data/\" * case_name * \"/post/station/\"\n",
    "    plot_path = output_dir * \"$(String(evalprop))_$(String(ycol))_station\"\n",
    "\n",
    "    df_ycol = @linq df |> where(:colname .== String(ycol), :code .!= base_stn_code)\n",
    "    df_ycol_base = @linq df |> where(:colname .== String(ycol), :code .== base_stn_code)\n",
    "    df_ycol_eval = df_ycol[:, evalprop]\n",
    "    df_ycol_eval_base = df_ycol_base[:, evalprop]\n",
    "    \n",
    "    val_ycol_eval_base = df_ycol_base[1, evalprop]\n",
    "    names_evals = df_ycol[:, :name]\n",
    "    codes_evals = df_ycol[:, :code]\n",
    "    arr_evals = df_ycol[:, evalprop]\n",
    "\n",
    "    pl = Plots.bar(names_evals, arr_evals, yformatter = :plain,\n",
    "        xrotation=45, color=[FL01_COLOR FL02_COLOR],\n",
    "        xticks = (0.5:1:(length(names_evals)-0.5), names_evals),\n",
    "        xtickfontsize = 18, ytickfontsize = 24, margin=50px,\n",
    "        guidefontsize = 24, titlefontsize = 32, legendfontsize = 24,\n",
    "        guidefontcolor = LN_COLOR, titlefontcolor = LN_COLOR, tickfontcolor = LN_COLOR, legendfontcolor = LN_COLOR,\n",
    "        background_color = BG_COLOR, \n",
    "        title=string(evalprop),\n",
    "        xlabel=\"station\", ylabel=string(evalprop), legend=false)\n",
    "    \n",
    "    Plots.hline!([val_ycol_eval_base], line=(4,FL01_COLOR), label=\"$(String(ycol))($(base_stn_name))\")\n",
    "    Plots.png(pl, plot_path * \".png\")\n",
    "    Plots.svg(pl, plot_path * \".svg\")\n",
    "    #Plots.plot(pl)\n",
    "end"
   ]
  },
  {
   "cell_type": "code",
   "execution_count": null,
   "metadata": {},
   "outputs": [],
   "source": [
    "plot_eval_per_station(:RMSE, jongro_stn_code, jongro_stn_name, :PM10)\n",
    "plot_eval_per_station(:RMSE, jongro_stn_code, jongro_stn_name, :PM25)"
   ]
  },
  {
   "cell_type": "code",
   "execution_count": null,
   "metadata": {},
   "outputs": [],
   "source": [
    "function plot_corr_per_station(base_stn_code::Integer, base_stn_name::String, ycol::Symbol)\n",
    "    output_size = 24\n",
    "    output_dir = \"/home/appleparan/data/\" * case_name * \"/post/station/\"\n",
    "\n",
    "    hours = collect(1:24)\n",
    "    for ycol in [:PM25, :PM10]\n",
    "        df = DataFrame(hour = hours)\n",
    "        pl_arr = []\n",
    "\n",
    "        for stn in stations\n",
    "            csv_path = output_dir * \"$(String(ycol))_$(stn[:code])_$(stn[:name])_corr.csv\"\n",
    "            df_stn = CSV.read(csv_path)\n",
    "            df_stn = DataFrames.rename(df_stn, :corr => Symbol(:corr, \"_$(stn[:name])\"))\n",
    "            df = DataFrames.join(df, df_stn, on = :hour)\n",
    "            \n",
    "        end\n",
    "\n",
    "        df_stn_corr = DataFrame(hours = Int64[], name = String[], code = Int64[], corr = Float64[])\n",
    "\n",
    "        for stn in stations\n",
    "            name = stn[:name]\n",
    "            code = stn[:code]\n",
    "            column_name = Symbol(\"corr_$(String(name))\")\n",
    "            df_stn_sub = df[:, [:hour, column_name]]\n",
    "            df_stn_tmp = DataFrame(hours = df_stn_sub[:, :hour],\n",
    "                    name = repeat([String(name)], output_size),\n",
    "                    code = repeat([code], output_size),\n",
    "                    corr = df_stn_sub[:, column_name])\n",
    "            \n",
    "            df_stn_corr = vcat(df_stn_corr, df_stn_tmp)\n",
    "        end\n",
    "        \n",
    "        for hour = 1:output_size\n",
    "            df_corr = @linq df_stn_corr |> where(:hours .== hour, :code .!= base_stn_code)\n",
    "            df_corr_base = @linq df_stn_corr |> where(:hours .== hour, :code .== base_stn_code)\n",
    "            df_corr_eval = df_corr[:, :corr]\n",
    "            df_corr_eval_base = df_corr_base[:, :corr]\n",
    "            \n",
    "            arr_evals = df_corr_eval\n",
    "            val_corr_base = df_corr_eval_base\n",
    "            names_evals = df_corr[:, :name]\n",
    "            codes_evals = df_corr[:, :code]\n",
    "\n",
    "            plot_path = output_dir * \"corr_$(String(ycol))_station_$(hour)h\"\n",
    "\n",
    "            pl = Plots.bar(names_evals, arr_evals, yformatter = :plain,\n",
    "                xrotation=45, color=[FL01_COLOR FL02_COLOR],\n",
    "                xticks = (0.5:1:(length(names_evals)-0.5), names_evals),\n",
    "                xtickfontsize = 18, ytickfontsize = 24, margin=50px,\n",
    "                guidefontsize = 24, titlefontsize = 32, legendfontsize = 24,\n",
    "                guidefontcolor = LN_COLOR, titlefontcolor = LN_COLOR, tickfontcolor = LN_COLOR, legendfontcolor = LN_COLOR,\n",
    "                background_color = BG_COLOR, \n",
    "                title=\"Correlation in $(hour)h\",\n",
    "                xlabel=\"Station\", ylabel=\"Correlation\", legend=false)\n",
    "            Plots.hline!(val_corr_base, line=(4,FL01_COLOR), label=\"$(String(ycol))($(base_stn_name))\")\n",
    "            Plots.png(pl, plot_path * \".png\")\n",
    "            Plots.svg(pl, plot_path * \".svg\")\n",
    "            #Plots.plot(pl)\n",
    "            push!(pl_arr, pl)\n",
    "        end\n",
    "        #=\n",
    "        anim = @animate for i=1:length(pl_arr)\n",
    "            Plots.plot(pl_arr[i])\n",
    "        end\n",
    "        gif(anim,output_dir * \"corr_$(String(ycol))_station.gif\", fps=2)\n",
    "        =#\n",
    "    end\n",
    "end"
   ]
  },
  {
   "cell_type": "code",
   "execution_count": null,
   "metadata": {},
   "outputs": [],
   "source": [
    "plot_corr_per_station(jongro_stn_code, jongro_stn_name, :PM10)\n",
    "plot_corr_per_station(jongro_stn_code, jongro_stn_name, :PM25)"
   ]
  },
  {
   "cell_type": "code",
   "execution_count": 14,
   "metadata": {},
   "outputs": [
    {
     "data": {
      "text/plain": [
       "plot_eval_per_feature (generic function with 1 method)"
      ]
     },
     "execution_count": 14,
     "metadata": {},
     "output_type": "execute_result"
    }
   ],
   "source": [
    "function plot_eval_per_feature(case_name_feas_prefix::String, evalprop::Symbol, ycol::Symbol)\n",
    "    df = CSV.read(feature_csv)\n",
    "    output_dir = \"/home/appleparan/data/\" * case_name_feas_prefix * \"/post/feature/\"\n",
    "    plot_path = output_dir * \"$(String(evalprop))_$(String(ycol))_feature\"\n",
    "\n",
    "    df_ycol = @linq df |> where(:colname .== String(ycol), :rm_fea .!= \"FULL\")\n",
    "    df_ycol_full = @linq df |> where(:colname .== String(ycol), :rm_fea .== \"FULL\")\n",
    "\n",
    "    val_ycol_evals = df_ycol[:, evalprop]\n",
    "    val_ycol_evals_full = df_ycol_full[1, evalprop]\n",
    "    \n",
    "    rm_features = df_ycol[:, :rm_fea]\n",
    "    evals_arr = val_ycol_evals\n",
    "\n",
    "    pl = Plots.bar(rm_features, evals_arr,\n",
    "        yformatter = :plain,\n",
    "        guidefontsize = 24, titlefontsize = 32, tickfontsize = 24, legendfontsize = 24, margin=15px,\n",
    "        guidefontcolor = LN_COLOR, titlefontcolor = LN_COLOR, tickfontcolor = LN_COLOR, legendfontcolor = LN_COLOR,\n",
    "        background_color = BG_COLOR, color=[FL01_COLOR FL02_COLOR],\n",
    "        title=string(evalprop), \n",
    "        xlabel=\"station\", ylabel=string(evalprop), legend=:false)\n",
    "    hline!([val_ycol_evals_full], line=(4,FL01_COLOR), label=\"$(String(ycol)) (Full)\")\n",
    "\n",
    "    Plots.png(pl, plot_path * \".png\")\n",
    "    Plots.svg(pl, plot_path * \".svg\")\n",
    "    #Plots.plot(pl)\n",
    "end"
   ]
  },
  {
   "cell_type": "code",
   "execution_count": 96,
   "metadata": {
    "scrolled": true
   },
   "outputs": [],
   "source": [
    "suffices = [:no_CO2,:no_O3,:no_NO2, :no_SO2, :no_temp, :no_uandv, :no_prepandsnow, :no_humid]\n",
    "dir_prefix = [\"no\" * String(s) for s in suffices]\n",
    "#for p in dir_prefix\n",
    "p = \"1907_rewrite\"\n",
    "plot_eval_per_feature(p, :IOA, :PM10)\n",
    "plot_eval_per_feature(p, :IOA, :PM25)\n",
    "#end"
   ]
  },
  {
   "cell_type": "code",
   "execution_count": 97,
   "metadata": {},
   "outputs": [
    {
     "data": {
      "text/plain": [
       "plot_corr_per_feature (generic function with 3 methods)"
      ]
     },
     "execution_count": 97,
     "metadata": {},
     "output_type": "execute_result"
    }
   ],
   "source": [
    "function plot_corr_per_feature(case_name_feas_prefix::String, ycol::Symbol, features)\n",
    "    \n",
    "    output_dir = \"/home/appleparan/data/\" * case_name_feas_prefix * \"/post/feature/\"\n",
    "\n",
    "    hours = collect(1:24)\n",
    "    \n",
    "    for ycol in [:PM25, :PM10]\n",
    "        df = DataFrame(hour = hours)\n",
    "        plot_path = output_dir * \"corr_$(String(ycol))_rm_\"\n",
    "\n",
    "        for fea in features\n",
    "            csv_path = output_dir * \"$(String(ycol))_rm_$(String(fea))_corr.csv\"\n",
    "            df_fea = CSV.read(csv_path)\n",
    "            df_fea = DataFrames.rename(df_fea, :corr => Symbol(:corr, \"_rm_$(fea)\"))\n",
    "            df = DataFrames.join(df, df_fea, on = :hour)\n",
    "        end\n",
    "\n",
    "        df_fea_corr = DataFrame(hours = Int64[], feature = String[], corr = Float64[])\n",
    "\n",
    "        for fea in features\n",
    "            column_name = Symbol(\"corr_rm_$(String(fea))\")\n",
    "            df_fea_sub = df[:, [:hour, column_name]]\n",
    "            df_fea_tmp = DataFrame(hours = df_fea_sub[:, :hour],\n",
    "                    feature = repeat([String(fea)], output_size),\n",
    "                    corr = df_fea_sub[:, column_name])\n",
    "            \n",
    "            df_fea_corr = vcat(df_fea_corr, df_fea_tmp)\n",
    "        end\n",
    "\n",
    "        for hour = 1:output_size\n",
    "            df_corr = @linq df_fea_corr |> where(:hours .== hour, :feature .!= \"FULL\")\n",
    "            df_corr_base = @linq df_fea_corr |> where(:hours .== hour, :feature .== \"FULL\")\n",
    "            df_corr_eval = df_corr[:, :corr]\n",
    "            df_corr_eval_base = df_corr_base[:, :corr]\n",
    "            \n",
    "            arr_evals = df_corr_eval\n",
    "            val_corr_base = df_corr_eval_base\n",
    "            fea_evals = df_corr[:, :feature]\n",
    "\n",
    "            plot_path = output_dir * \"corr_$(String(ycol))_feature_$(hour)h\"\n",
    "            gr(size = (2560, 1080))\n",
    "            pl = Plots.bar(fea_evals, arr_evals, yformatter = :plain,\n",
    "                xrotation=45, color=[FL01_COLOR FL02_COLOR],\n",
    "                guidefontsize = 24, titlefontsize = 32, tickfontsize = 24, legendfontsize = 24, margin=15px,\n",
    "                guidefontcolor = LN_COLOR, titlefontcolor = LN_COLOR, tickfontcolor = LN_COLOR, legendfontcolor = LN_COLOR,\n",
    "                background_color = BG_COLOR, \n",
    "                title=\"Correlation in $(hour)h\",\n",
    "                xlabel=\"Features\", ylabel=\"Correlation\", legend=false)\n",
    "            Plots.hline!(val_corr_base, line=(4,FL01_COLOR), label=\"$(String(ycol))_FULL\")\n",
    "            Plots.png(pl, plot_path * \".png\")\n",
    "            Plots.svg(pl, plot_path * \".svg\")\n",
    "            Plots.plot(pl)\n",
    "        end\n",
    "    end\n",
    "end"
   ]
  },
  {
   "cell_type": "code",
   "execution_count": 99,
   "metadata": {},
   "outputs": [],
   "source": [
    "features = [:SO2, :CO, :O3, :NO2, :PM10, :PM25, :temp, :uv, :pres, :prepsnow, :humid, :FULL]\n",
    "plot_corr_per_feature(\"1907_rewrite\", :PM10, features)\n",
    "plot_corr_per_feature(\"1907_rewrite\", :PM25, features)"
   ]
  },
  {
   "cell_type": "code",
   "execution_count": 88,
   "metadata": {},
   "outputs": [
    {
     "data": {
      "text/plain": [
       "show_forecast (generic function with 1 method)"
      ]
     },
     "execution_count": 88,
     "metadata": {},
     "output_type": "execute_result"
    }
   ],
   "source": [
    "function show_forecast()\n",
    "    df = CSV.read(forecast_csv)\n",
    "   \n",
    "    df_PM10 = @linq df |> where(:colname .== \"PM10\")\n",
    "    df_PM25 = @linq df |> where(:colname .== \"PM25\")\n",
    "\n",
    "    @show \"PM10 (all & high) : \", Statistics.mean(df_PM10[:, :fore_all]), Statistics.mean(df_PM10[:, :fore_high]) \n",
    "    @show \"PM25 (all & high) : \", Statistics.mean(df_PM25[:, :fore_all]), Statistics.mean(df_PM25[:, :fore_high]) \n",
    "end"
   ]
  },
  {
   "cell_type": "code",
   "execution_count": 89,
   "metadata": {},
   "outputs": [
    {
     "name": "stdout",
     "output_type": "stream",
     "text": [
      "(\"PM10 (all & high) : \", Statistics.mean(df_PM10[:, :fore_all]), Statistics.mean(df_PM10[:, :fore_high])) = (\"PM10 (all & high) : \", 0.7821560480147737, 0.8028131562073)\n",
      "(\"PM25 (all & high) : \", Statistics.mean(df_PM25[:, :fore_all]), Statistics.mean(df_PM25[:, :fore_high])) = (\"PM25 (all & high) : \", 0.808213296398892, 0.815966765300334)\n"
     ]
    },
    {
     "data": {
      "text/plain": [
       "(\"PM25 (all & high) : \", 0.808213296398892, 0.815966765300334)"
      ]
     },
     "execution_count": 89,
     "metadata": {},
     "output_type": "execute_result"
    }
   ],
   "source": [
    "show_forecast()"
   ]
  },
  {
   "cell_type": "code",
   "execution_count": 12,
   "metadata": {},
   "outputs": [
    {
     "data": {
      "text/plain": [
       "plot_corr (generic function with 1 method)"
      ]
     },
     "execution_count": 12,
     "metadata": {},
     "output_type": "execute_result"
    }
   ],
   "source": [
    "using Statistics\n",
    "function plot_corr()\n",
    "    df = CSV.read(pearson_corr_csv)\n",
    "    output_dir = \"/home/appleparan/data/\" * case_name * \"/post/\"\n",
    "    plot_path = output_dir * \"pearson_corr\"\n",
    "    \n",
    "    dfM = convert(Matrix, df[:, :])\n",
    "    dfm_cor = Statistics.cor(dfM)\n",
    "    feas = names(df)\n",
    "    \n",
    "    ann = []\n",
    "    for i in 1:length(feas)\n",
    "    for j in 1:length(feas)\n",
    "        _ann = (i - 0.5, j - 0.5, Plots.text(format( df[i, j], precision=2), 18, :white))\n",
    "        push!(ann, _ann)\n",
    "    end\n",
    "    end\n",
    "    \n",
    "    crpl = Plots.heatmap(string.(feas), string.(feas), dfm_cor,\n",
    "        annotations = ann,\n",
    "        clim = (-1.0, 1.0), c=:blues, legend=true,\n",
    "        guidefontsize = 18, titlefontsize = 24, tickfontsize = 18, legendfontsize = 18, margin=15px,\n",
    "        guidefontcolor = LN_COLOR, titlefontcolor = LN_COLOR, tickfontcolor = LN_COLOR, legendfontcolor = LN_COLOR,\n",
    "        title=\"CORR\", background_color = BG_COLOR)\n",
    "\n",
    "    Plots.plot(crpl)\n",
    "    Plots.png(crpl, plot_path * \".png\")\n",
    "    Plots.svg(crpl, plot_path * \".svg\")\n",
    "end\n"
   ]
  },
  {
   "cell_type": "code",
   "execution_count": 13,
   "metadata": {},
   "outputs": [],
   "source": [
    "plot_corr()"
   ]
  },
  {
   "cell_type": "code",
   "execution_count": 100,
   "metadata": {},
   "outputs": [
    {
     "data": {
      "text/plain": [
       "2"
      ]
     },
     "execution_count": 100,
     "metadata": {},
     "output_type": "execute_result"
    }
   ],
   "source": [
    "1+1"
   ]
  },
  {
   "cell_type": "code",
   "execution_count": null,
   "metadata": {},
   "outputs": [],
   "source": []
  }
 ],
 "metadata": {
  "kernelspec": {
   "display_name": "Julia 1.1.1",
   "language": "julia",
   "name": "julia-1.1"
  },
  "language_info": {
   "file_extension": ".jl",
   "mimetype": "application/julia",
   "name": "julia",
   "version": "1.2.0"
  }
 },
 "nbformat": 4,
 "nbformat_minor": 2
}
