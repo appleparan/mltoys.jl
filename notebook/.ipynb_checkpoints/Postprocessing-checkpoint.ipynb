{
 "cells": [
  {
   "cell_type": "code",
   "execution_count": 103,
   "metadata": {},
   "outputs": [
    {
     "data": {
      "text/html": [
       "<style>\n",
       "@import url('https://fonts.googleapis.com/css?family=Nanum+Gothic&display=swap');\n",
       "body {\n",
       "    font-family:'Nanum Gothic', sans-serif;\n",
       "}\n",
       "</style>\n"
      ],
      "text/plain": [
       "HTML{String}(\"<style>\\n@import url('https://fonts.googleapis.com/css?family=Nanum+Gothic&display=swap');\\nbody {\\n    font-family:'Nanum Gothic', sans-serif;\\n}\\n</style>\\n\")"
      ]
     },
     "execution_count": 103,
     "metadata": {},
     "output_type": "execute_result"
    }
   ],
   "source": [
    "HTML(\"\"\"\n",
    "<style>\n",
    "@import url('https://fonts.googleapis.com/css?family=Nanum+Gothic&display=swap');\n",
    "body {\n",
    "    font-family:'Nanum Gothic', sans-serif;\n",
    "}\n",
    "</style>\n",
    "\"\"\"\n",
    ")"
   ]
  },
  {
   "cell_type": "code",
   "execution_count": 104,
   "metadata": {
    "scrolled": false
   },
   "outputs": [
    {
     "data": {
      "text/plain": [
       "Plots.PyPlotBackend()"
      ]
     },
     "execution_count": 104,
     "metadata": {},
     "output_type": "execute_result"
    }
   ],
   "source": [
    "using Statistics\n",
    "using Dates, TimeZones\n",
    "using CSV, DataFrames, DataFramesMeta\n",
    "using Plots, Plots.PlotMeasures\n",
    "using PyPlot\n",
    "using Formatting\n",
    "pyplot()"
   ]
  },
  {
   "cell_type": "code",
   "execution_count": 158,
   "metadata": {},
   "outputs": [
    {
     "ename": "UndefVarError",
     "evalue": "UndefVarError: nanum32 not defined",
     "output_type": "error",
     "traceback": [
      "UndefVarError: nanum32 not defined",
      "",
      "Stacktrace:",
      " [1] top-level scope at In[158]:5"
     ]
    }
   ],
   "source": [
    "nanum12 = Plots.font(family=\"NanumGothic\", pointsize=12)\n",
    "nanum14 = Plots.font(family=\"NanumGothic\", pointsize=14)\n",
    "nanum18 = Plots.font(family=\"NanumGothic\", pointsize=18)\n",
    "nanum24 = Plots.font(family=\"NanumGothic\", pointsize=24)\n",
    "default(titlefont=nanum32, guidefont=nanum24, tickfont=nanum24, legendfont=nanum24)"
   ]
  },
  {
   "cell_type": "code",
   "execution_count": 106,
   "metadata": {},
   "outputs": [
    {
     "data": {
      "text/plain": [
       "25-element Array{String,1}:\n",
       " \"중구\"  \n",
       " \"종로구\" \n",
       " \"용산구\" \n",
       " \"광진구\" \n",
       " \"성동구\" \n",
       " \"중랑구\" \n",
       " \"동대문구\"\n",
       " \"성북구\" \n",
       " \"도봉구\" \n",
       " \"은평구\" \n",
       " \"서대문구\"\n",
       " \"마포구\" \n",
       " \"강서구\" \n",
       " \"구로구\" \n",
       " \"영등포구\"\n",
       " \"동작구\" \n",
       " \"관악구\" \n",
       " \"강남구\" \n",
       " \"서초구\" \n",
       " \"송파구\" \n",
       " \"강동구\" \n",
       " \"금천구\" \n",
       " \"강북구\" \n",
       " \"양천구\" \n",
       " \"노원구\" "
      ]
     },
     "execution_count": 106,
     "metadata": {},
     "output_type": "execute_result"
    }
   ],
   "source": [
    "stn_codes = [111121, 111123, 111131, 111141, 111142,\n",
    "    111151, 111152, 111161, 111171, 111181,\n",
    "    111191, 111201, 111212, 111221, 111231,\n",
    "    111241, 111251, 111261, 111262, 111273,\n",
    "    111274, 111281, 111291, 111301, 111311]\n",
    "stn_names = [\"중구\", \"종로구\", \"용산구\", \"광진구\", \"성동구\",\n",
    "    \"중랑구\", \"동대문구\", \"성북구\", \"도봉구\", \"은평구\",\n",
    "    \"서대문구\", \"마포구\", \"강서구\", \"구로구\", \"영등포구\",\n",
    "    \"동작구\", \"관악구\", \"강남구\", \"서초구\", \"송파구\",\n",
    "    \"강동구\", \"금천구\", \"강북구\", \"양천구\", \"노원구\"]"
   ]
  },
  {
   "cell_type": "code",
   "execution_count": 156,
   "metadata": {},
   "outputs": [
    {
     "data": {
      "text/plain": [
       "25"
      ]
     },
     "execution_count": 156,
     "metadata": {},
     "output_type": "execute_result"
    }
   ],
   "source": [
    "case_name = \"test_2015_2018\"\n",
    "zoom_mindate = DateTime(2018, 1, 1, 1)\n",
    "zoom_maxdate = DateTime(2018, 12, 31, 23)\n",
    "zoom_sdate = DateTime(2018, 7, 1, 1)\n",
    "zoom_fdate = DateTime(2018, 7, 10, 23)\n",
    "zoom_sdate2 = DateTime(2018, 11, 1, 1)\n",
    "zoom_fdate2 = DateTime(2018, 11, 10, 23)\n",
    "jongro_stncode = 111123\n",
    "jongro_stnname = \"종로구\"\n",
    "jongro_idx = 2\n",
    "seongbuk_stncode =  111161\n",
    "seongbuk_stnname = \"성북구\"\n",
    "seongbuk_idx = 8\n",
    "songpa_stncode = 111273\n",
    "songpa_stnname = \"송파구\"\n",
    "seongbuk_idx = 20\n",
    "gangseo_stncode = 111212\n",
    "gangseo_stnname = \"강서구\"\n",
    "gangseo_idx = 13\n",
    "seongdong_idx = 5\n",
    "gwangjin_idx = 4\n",
    "nowon_idx = 25"
   ]
  },
  {
   "cell_type": "code",
   "execution_count": 122,
   "metadata": {},
   "outputs": [
    {
     "data": {
      "text/plain": [
       "\"/home/appleparan/data/test_2015_2018/pearson_corr.csv\""
      ]
     },
     "execution_count": 122,
     "metadata": {},
     "output_type": "execute_result"
    }
   ],
   "source": [
    "feature_csv = \"/home/appleparan/data/\" * case_name * \"/post/feature/feature_stats.csv\"\n",
    "station_csv = \"/home/appleparan/data/\" * case_name * \"/post/station/station_stats.csv\"\n",
    "forecast_csv = \"/home/appleparan/data/\" * case_name * \"/post/forecast/forecast_stats.csv\"\n",
    "pearson_corr_csv = \"/home/appleparan/data/\" * case_name * \"/pearson_corr.csv\""
   ]
  },
  {
   "cell_type": "code",
   "execution_count": 123,
   "metadata": {},
   "outputs": [
    {
     "data": {
      "text/plain": [
       "\"yyyymmddHH\""
      ]
     },
     "execution_count": 123,
     "metadata": {},
     "output_type": "execute_result"
    }
   ],
   "source": [
    "ENV[\"GKSwstype\"] = \"100\"\n",
    "ENV[\"GKS_ENCODING\"] = \"utf-8\"\n",
    "const BG_COLOR = RGB(255/255, 255/255, 255/255)\n",
    "const LN_COLOR = RGB(67/255, 75/255, 86/255)\n",
    "const MK_COLOR = RGB(67/255, 75/255, 86/255)\n",
    "const LN01_COLOR = RGB(202/255,0/255,32/255)\n",
    "const LN02_COLOR = RGB(5/255,113/255,176/255)\n",
    "const FL01_COLOR = RGB(239/255, 138/255, 98/255)\n",
    "const FL02_COLOR = RGB(103/255, 169/255, 207/255)\n",
    "const datefmt = \"yyyymmddHH\"    "
   ]
  },
  {
   "cell_type": "markdown",
   "metadata": {},
   "source": [
    "# Zoomed Plot"
   ]
  },
  {
   "cell_type": "code",
   "execution_count": 159,
   "metadata": {},
   "outputs": [
    {
     "data": {
      "text/plain": [
       "plot_DNN_lineplot (generic function with 1 method)"
      ]
     },
     "execution_count": 159,
     "metadata": {},
     "output_type": "execute_result"
    }
   ],
   "source": [
    "function plot_DNN_lineplot(stn_code, stn_name, s_date::DateTime, f_date::DateTime, ycol::Symbol)\n",
    "    csv_01h_name = \"/home/appleparan/data/\" * case_name * \"/post/station/\" *\n",
    "            string(ycol) * \"_\" *\n",
    "            string(stn_code) * \"_\" *\n",
    "            stn_name * \"_plotdata_01h.csv\"\n",
    "    csv_24h_name = \"/home/appleparan/data/\" * case_name * \"/post/station/\" *\n",
    "            string(ycol) * \"_\" *\n",
    "            string(stn_code) * \"_\" *\n",
    "            stn_name * \"_plotdata_24h.csv\"\n",
    "    ycol_str = \"PM10\"\n",
    "    if ycol == :PM25\n",
    "        ycol_str = \"PM2.5\"\n",
    "    elseif ycol == :PM10\n",
    "        ycol_str = \"PM10\"\n",
    "    end\n",
    "    output_dir = \"/home/appleparan/data/\" * case_name * \"/post/\"\n",
    "    line_01h_path = output_dir *\n",
    "        string(ycol) * \"_\" *\n",
    "        string(stn_code) * \"_\" *\n",
    "        stn_name * \"_\" * \n",
    "        Dates.format(s_date + Dates.Hour(1), datefmt) * \"_\"  *\n",
    "        Dates.format(f_date + Dates.Hour(1), datefmt) * \"_01h_line\"\n",
    "    line_24h_path = output_dir *\n",
    "        string(ycol) * \"_\" *\n",
    "        string(stn_code) * \"_\" *\n",
    "        stn_name * \"_\" * \n",
    "        Dates.format(s_date + Dates.Hour(24), datefmt) * \"_\"  *\n",
    "        Dates.format(f_date + Dates.Hour(24), datefmt) * \"_24h_line\"\n",
    "    \n",
    "    df_01h_raw = CSV.read(csv_01h_name)\n",
    "    df_01h = @linq df_01h_raw |>\n",
    "        where(:dates .>= s_date + Dates.Hour(1) , :dates .<= f_date + Dates.Hour(1))\n",
    "    df_24h_raw = CSV.read(csv_24h_name)\n",
    "    df_24h = @linq df_24h_raw |>\n",
    "        where(:dates .>= s_date + Dates.Hour(24) , :dates .<= f_date + Dates.Hour(24))\n",
    "\n",
    "    # plot in dates\n",
    "    gr(size = (2560, 1080))\n",
    "    pl1 = Plots.plot(df_01h[:, :dates], df_01h[:, :y],\n",
    "        ylim = (0.0, \n",
    "            max(maximum(df_01h[:, :y]), maximum(df_01h[:, :yhat]))),\n",
    "        line=:solid, linewidth=5, label=\"obs.\",\n",
    "        guidefontsize = 24, titlefontsize = 32, tickfontsize = 24, legendfontsize = 24, margin=15px,\n",
    "        guidefontcolor = LN_COLOR, titlefontcolor = LN_COLOR, tickfontcolor = LN_COLOR, legendfontcolor = LN_COLOR,\n",
    "        background_color = BG_COLOR, color=LN01_COLOR,\n",
    "        title=ycol_str * \" in dates (1h) at \" * stn_name, \n",
    "        xlabel=\"date\", ylabel=ycol_str, legend=:top)\n",
    "    pl1 = Plots.plot!(df_01h[:, :dates], df_01h[:, :yhat],\n",
    "        line=:solid, linewidth=5, color=LN02_COLOR, label=\"model\")\n",
    "    Plots.png(pl1, line_01h_path * \".png\")\n",
    "    Plots.svg(pl1, line_01h_path * \".svg\")\n",
    "\n",
    "    gr(size = (2560, 1080))\n",
    "    pl2 = Plots.plot(df_24h[:, :dates], df_24h[:, :y],\n",
    "        ylim = (0.0,\n",
    "            max(maximum(df_24h[:, :y]), maximum(df_24h[:, :yhat]))),\n",
    "        line=:solid, linewidth=5, label=\"obs.\", xrotation=0,\n",
    "        guidefontsize = 24, titlefontsize = 32, tickfontsize = 24, legendfontsize = 24, margin=15px,\n",
    "        guidefontcolor = LN_COLOR, titlefontcolor = LN_COLOR, tickfontcolor = LN_COLOR, legendfontcolor = LN_COLOR,\n",
    "        background_color = BG_COLOR, color=LN01_COLOR,\n",
    "        title=ycol_str * \" in dates (24h) at \" * stn_name, \n",
    "        xlabel=\"date\", ylabel=ycol_str, legend=:top)\n",
    "    pl2 = Plots.plot!(df_24h[:, :dates], df_24h[:, :yhat],\n",
    "        line=:solid, linewidth=5, color=LN02_COLOR, label=\"model\")\n",
    "    Plots.png(pl2, line_24h_path * \".png\")\n",
    "    Plots.svg(pl2, line_24h_path * \".svg\")\n",
    "    l = @layout [a ; b]\n",
    "    #Plots.plot(pl1, pl2, layout = l)\n",
    "end"
   ]
  },
  {
   "cell_type": "code",
   "execution_count": 160,
   "metadata": {},
   "outputs": [
    {
     "data": {
      "text/plain": [
       "Plots.GridLayout(2, 1)"
      ]
     },
     "execution_count": 160,
     "metadata": {},
     "output_type": "execute_result"
    }
   ],
   "source": [
    "plot_DNN_lineplot( jongro_stncode, jongro_stnname, DateTime(2018, 1, 4, 1), DateTime(2018, 3, 31, 23), :PM10)\n",
    "plot_DNN_lineplot( jongro_stncode, jongro_stnname, DateTime(2018, 1, 4, 1), DateTime(2018, 3, 31, 23), :PM25)"
   ]
  },
  {
   "cell_type": "code",
   "execution_count": 161,
   "metadata": {},
   "outputs": [
    {
     "data": {
      "text/plain": [
       "Plots.GridLayout(2, 1)"
      ]
     },
     "execution_count": 161,
     "metadata": {},
     "output_type": "execute_result"
    }
   ],
   "source": [
    "plot_DNN_lineplot( jongro_stncode, jongro_stnname, DateTime(2018, 4, 1, 0), DateTime(2018, 6, 30, 23), :PM10)\n",
    "plot_DNN_lineplot( jongro_stncode, jongro_stnname, DateTime(2018, 4, 1, 0), DateTime(2018, 6, 30, 23), :PM25)"
   ]
  },
  {
   "cell_type": "code",
   "execution_count": 162,
   "metadata": {},
   "outputs": [
    {
     "data": {
      "text/plain": [
       "Plots.GridLayout(2, 1)"
      ]
     },
     "execution_count": 162,
     "metadata": {},
     "output_type": "execute_result"
    }
   ],
   "source": [
    "plot_DNN_lineplot( jongro_stncode, jongro_stnname, DateTime(2018, 7, 1, 0), DateTime(2018, 9, 30, 23), :PM10)\n",
    "plot_DNN_lineplot( jongro_stncode, jongro_stnname, DateTime(2018, 7, 1, 0), DateTime(2018, 9, 30, 23), :PM25)"
   ]
  },
  {
   "cell_type": "code",
   "execution_count": 163,
   "metadata": {},
   "outputs": [
    {
     "data": {
      "text/plain": [
       "Plots.GridLayout(2, 1)"
      ]
     },
     "execution_count": 163,
     "metadata": {},
     "output_type": "execute_result"
    }
   ],
   "source": [
    "plot_DNN_lineplot( jongro_stncode, jongro_stnname, DateTime(2018, 10, 1, 0), DateTime(2018, 12, 31, 23), :PM10)\n",
    "plot_DNN_lineplot( jongro_stncode, jongro_stnname, DateTime(2018, 10, 1, 0), DateTime(2018, 12, 31, 23), :PM25)"
   ]
  },
  {
   "cell_type": "code",
   "execution_count": 164,
   "metadata": {
    "scrolled": false
   },
   "outputs": [
    {
     "data": {
      "text/plain": [
       "Plots.GridLayout(2, 1)"
      ]
     },
     "execution_count": 164,
     "metadata": {},
     "output_type": "execute_result"
    }
   ],
   "source": [
    "plot_DNN_lineplot( stn_codes[jongro_idx], stn_names[jongro_idx], zoom_sdate, zoom_fdate, :PM10)\n",
    "plot_DNN_lineplot( stn_codes[jongro_idx], stn_names[jongro_idx], zoom_sdate, zoom_fdate, :PM25)"
   ]
  },
  {
   "cell_type": "code",
   "execution_count": 165,
   "metadata": {},
   "outputs": [
    {
     "data": {
      "text/plain": [
       "Plots.GridLayout(2, 1)"
      ]
     },
     "execution_count": 165,
     "metadata": {},
     "output_type": "execute_result"
    }
   ],
   "source": [
    "plot_DNN_lineplot( stn_codes[jongro_idx], stn_names[jongro_idx], zoom_sdate2, zoom_fdate2, :PM10)\n",
    "plot_DNN_lineplot( stn_codes[jongro_idx], stn_names[jongro_idx], zoom_sdate2, zoom_fdate2, :PM25)"
   ]
  },
  {
   "cell_type": "code",
   "execution_count": 166,
   "metadata": {},
   "outputs": [
    {
     "data": {
      "text/plain": [
       "Plots.GridLayout(2, 1)"
      ]
     },
     "execution_count": 166,
     "metadata": {},
     "output_type": "execute_result"
    }
   ],
   "source": [
    "plot_DNN_lineplot( stn_codes[seongbuk_idx], stn_names[seongbuk_idx], zoom_sdate, zoom_fdate, :PM10)\n",
    "plot_DNN_lineplot( stn_codes[seongbuk_idx], stn_names[seongbuk_idx], zoom_sdate, zoom_fdate, :PM25)"
   ]
  },
  {
   "cell_type": "code",
   "execution_count": 167,
   "metadata": {},
   "outputs": [
    {
     "data": {
      "text/plain": [
       "Plots.GridLayout(2, 1)"
      ]
     },
     "execution_count": 167,
     "metadata": {},
     "output_type": "execute_result"
    }
   ],
   "source": [
    "plot_DNN_lineplot( stn_codes[gangseo_idx], stn_names[gangseo_idx], zoom_sdate, zoom_fdate, :PM10)\n",
    "plot_DNN_lineplot( stn_codes[gangseo_idx], stn_names[gangseo_idx], zoom_sdate, zoom_fdate, :PM25)"
   ]
  },
  {
   "cell_type": "code",
   "execution_count": 168,
   "metadata": {},
   "outputs": [
    {
     "data": {
      "text/plain": [
       "Plots.GridLayout(2, 1)"
      ]
     },
     "execution_count": 168,
     "metadata": {},
     "output_type": "execute_result"
    }
   ],
   "source": [
    "plot_DNN_lineplot( stn_codes[seongdong_idx], stn_names[seongdong_idx], zoom_sdate, zoom_fdate, :PM10)\n",
    "plot_DNN_lineplot( stn_codes[seongdong_idx], stn_names[seongdong_idx], zoom_sdate, zoom_fdate, :PM25)"
   ]
  },
  {
   "cell_type": "code",
   "execution_count": 169,
   "metadata": {},
   "outputs": [
    {
     "data": {
      "text/plain": [
       "Plots.GridLayout(2, 1)"
      ]
     },
     "execution_count": 169,
     "metadata": {},
     "output_type": "execute_result"
    }
   ],
   "source": [
    "plot_DNN_lineplot( stn_codes[gwangjin_idx], stn_names[gwangjin_idx], zoom_sdate, zoom_fdate, :PM10)\n",
    "plot_DNN_lineplot( stn_codes[gwangjin_idx], stn_names[gwangjin_idx], zoom_sdate, zoom_fdate, :PM25)"
   ]
  },
  {
   "cell_type": "code",
   "execution_count": 170,
   "metadata": {},
   "outputs": [
    {
     "data": {
      "text/plain": [
       "Plots.GridLayout(2, 1)"
      ]
     },
     "execution_count": 170,
     "metadata": {},
     "output_type": "execute_result"
    }
   ],
   "source": [
    "plot_DNN_lineplot( stn_codes[nowon_idx], stn_names[nowon_idx], zoom_sdate, zoom_fdate, :PM10)\n",
    "plot_DNN_lineplot( stn_codes[nowon_idx], stn_names[nowon_idx], zoom_sdate, zoom_fdate, :PM25)"
   ]
  },
  {
   "cell_type": "markdown",
   "metadata": {},
   "source": [
    "# Station Line Plot"
   ]
  },
  {
   "cell_type": "code",
   "execution_count": 30,
   "metadata": {},
   "outputs": [],
   "source": [
    "using StatsPlots"
   ]
  },
  {
   "cell_type": "code",
   "execution_count": 171,
   "metadata": {},
   "outputs": [
    {
     "data": {
      "text/plain": [
       "plot_eval_per_station (generic function with 1 method)"
      ]
     },
     "execution_count": 171,
     "metadata": {},
     "output_type": "execute_result"
    }
   ],
   "source": [
    "function plot_eval_per_station(evalprop::Symbol)\n",
    "    df = CSV.read(station_csv)\n",
    "    output_dir = \"/home/appleparan/data/\" * case_name * \"/post/\"\n",
    "    plot_path = output_dir * string(evalprop) * \"_station\"\n",
    "\n",
    "    df_PM10 = @linq df |> where(:colname .== \"PM10\", :code .!= jongro_stncode)\n",
    "    df_PM25 = @linq df |> where(:colname .== \"PM25\", :code .!= jongro_stncode)\n",
    "    df_PM10_full = @linq df |> where(:colname .== \"PM10\", :code .== jongro_stncode)\n",
    "    df_PM25_full = @linq df |> where(:colname .== \"PM25\", :code .== jongro_stncode)\n",
    "    PM10_evals = df_PM10[:, evalprop]\n",
    "    PM25_evals = df_PM25[:, evalprop]\n",
    "    PM10_evals_full = df_PM10_full[1, evalprop]\n",
    "    PM25_evals_full = df_PM25_full[1, evalprop]\n",
    "    \n",
    "    names_evals = df_PM10[:, :name]\n",
    "    evals_arr = vcat(PM10_evals, PM25_evals)\n",
    "\n",
    "    pl = StatsPlots.groupedbar(repeat(names_evals, outer=2), evals_arr,\n",
    "        group = repeat([\"PM10\", \"PM2.5\"], inner = length(names_evals)),\n",
    "        ylim = (0.0, 1.0), yformatter = :plain, ticks=[0.0, 0.2, 0.4, 0.6, 0.8, 1.0],\n",
    "        fontfamily=\"NanumGothic\", xrotation=45, color=[FL01_COLOR FL02_COLOR],\n",
    "        guidefontsize = 24, titlefontsize = 32, tickfontsize = 24, legendfontsize = 24, margin=15px,\n",
    "        guidefontcolor = LN_COLOR, titlefontcolor = LN_COLOR, tickfontcolor = LN_COLOR, legendfontcolor = LN_COLOR,\n",
    "        background_color = BG_COLOR, \n",
    "        title=string(evalprop), \n",
    "        xlabel=\"station\", ylabel=string(evalprop), legend=:bottomright)\n",
    "    hline!([PM10_evals_full], line=(4,FL01_COLOR), label=\"PM10(종로)\")\n",
    "    hline!([PM25_evals_full], line=(4,FL02_COLOR), label=\"PM2.5(종로)\")\n",
    "    Plots.png(pl, plot_path * \".png\")\n",
    "    Plots.svg(pl, plot_path * \".svg\")\n",
    "    #Plots.plot(pl)\n",
    "end"
   ]
  },
  {
   "cell_type": "code",
   "execution_count": 172,
   "metadata": {},
   "outputs": [],
   "source": [
    "plot_eval_per_station(:corr_24h)"
   ]
  },
  {
   "cell_type": "code",
   "execution_count": 173,
   "metadata": {
    "scrolled": true
   },
   "outputs": [],
   "source": [
    "plot_eval_per_station(:corr_24h)"
   ]
  },
  {
   "cell_type": "code",
   "execution_count": 174,
   "metadata": {},
   "outputs": [],
   "source": [
    "plot_eval_per_station(:RSR)"
   ]
  },
  {
   "cell_type": "code",
   "execution_count": 175,
   "metadata": {},
   "outputs": [
    {
     "data": {
      "text/plain": [
       "plot_eval_per_feature (generic function with 1 method)"
      ]
     },
     "execution_count": 175,
     "metadata": {},
     "output_type": "execute_result"
    }
   ],
   "source": [
    "function plot_eval_per_feature(evalprop::Symbol)\n",
    "    df = CSV.read(feature_csv, copycols=true)\n",
    "    output_dir = \"/home/appleparan/data/\" * case_name * \"/post/\"\n",
    "    plot_path = output_dir * string(evalprop) * \"_feature\"\n",
    "\n",
    "    df_PM10 = @linq df |> where(:colname .== \"PM10\", :rm_fea .!= \"FULL\")\n",
    "    df_PM25 = @linq df |> where(:colname .== \"PM25\", :rm_fea .!= \"FULL\")\n",
    "    df_PM10_full = @linq df |> where(:colname .== \"PM10\", :rm_fea .== \"FULL\")\n",
    "    df_PM25_full = @linq df |> where(:colname .== \"PM25\", :rm_fea .== \"FULL\")\n",
    "    \n",
    "    PM10_evals = df_PM10[:, evalprop]\n",
    "    PM25_evals = df_PM25[:, evalprop]\n",
    "    \n",
    "    PM10_evals_full = df_PM10_full[1, evalprop]\n",
    "    PM25_evals_full = df_PM25_full[1, evalprop]\n",
    "    \n",
    "    rm_features = vcat(df_PM10[:, :rm_fea], df_PM25[:, :rm_fea])\n",
    "    evals_arr = vcat(PM10_evals, PM25_evals)\n",
    "    pl = StatsPlots.groupedbar(rm_features, evals_arr,\n",
    "        group = vcat(df_PM10[:, :colname], df_PM25[:, :colname]),\n",
    "        ylim = (0.0, 1.0), yformatter = :plain, ticks=[0.0, 0.2, 0.4, 0.6, 0.8, 1.0],\n",
    "        fontfamily=\"NanumGothic\", \n",
    "        guidefontsize = 24, titlefontsize = 32, tickfontsize = 24, legendfontsize = 24, margin=15px,\n",
    "        guidefontcolor = LN_COLOR, titlefontcolor = LN_COLOR, tickfontcolor = LN_COLOR, legendfontcolor = LN_COLOR,\n",
    "        background_color = BG_COLOR, color=[FL01_COLOR FL02_COLOR],\n",
    "        title=string(evalprop), \n",
    "        xlabel=\"station\", ylabel=string(evalprop), legend=:bottomright)\n",
    "    hline!([PM10_evals_full], line=(4,FL01_COLOR), label=\"PM10(Full)\")\n",
    "    hline!([PM25_evals_full], line=(4,FL02_COLOR), label=\"PM2.5(Full)\")\n",
    "    Plots.png(pl, plot_path * \".png\")\n",
    "    Plots.svg(pl, plot_path * \".svg\")\n",
    "    #Plots.plot(pl)\n",
    "end"
   ]
  },
  {
   "cell_type": "code",
   "execution_count": 176,
   "metadata": {},
   "outputs": [],
   "source": [
    "plot_eval_per_feature(:corr_1h)"
   ]
  },
  {
   "cell_type": "code",
   "execution_count": 177,
   "metadata": {},
   "outputs": [],
   "source": [
    "plot_eval_per_feature(:corr_24h)"
   ]
  },
  {
   "cell_type": "code",
   "execution_count": 178,
   "metadata": {},
   "outputs": [],
   "source": [
    "plot_eval_per_feature(:RSR)"
   ]
  },
  {
   "cell_type": "code",
   "execution_count": 179,
   "metadata": {},
   "outputs": [
    {
     "data": {
      "text/plain": [
       "show_forecast (generic function with 1 method)"
      ]
     },
     "execution_count": 179,
     "metadata": {},
     "output_type": "execute_result"
    }
   ],
   "source": [
    "function show_forecast()\n",
    "    df = CSV.read(forecast_csv)\n",
    "   \n",
    "    df_PM10 = @linq df |> where(:colname .== \"PM10\")\n",
    "    df_PM25 = @linq df |> where(:colname .== \"PM25\")\n",
    "\n",
    "    @show \"PM10 (all & high) : \", Statistics.mean(df_PM10[:, :fore_all]), Statistics.mean(df_PM10[:, :fore_high]) \n",
    "    @show \"PM25 (all & high) : \", Statistics.mean(df_PM25[:, :fore_all]), Statistics.mean(df_PM25[:, :fore_high]) \n",
    "end"
   ]
  },
  {
   "cell_type": "code",
   "execution_count": 180,
   "metadata": {},
   "outputs": [
    {
     "name": "stdout",
     "output_type": "stream",
     "text": [
      "(\"PM10 (all & high) : \", Statistics.mean(df_PM10[:, :fore_all]), Statistics.mean(df_PM10[:, :fore_high])) = (\"PM10 (all & high) : \", 0.980752539242844, 0.9892266258194727)\n",
      "(\"PM25 (all & high) : \", Statistics.mean(df_PM25[:, :fore_all]), Statistics.mean(df_PM25[:, :fore_high])) = (\"PM25 (all & high) : \", 0.9894967682363803, 0.992709077797646)\n"
     ]
    },
    {
     "data": {
      "text/plain": [
       "(\"PM25 (all & high) : \", 0.9894967682363803, 0.992709077797646)"
      ]
     },
     "execution_count": 180,
     "metadata": {},
     "output_type": "execute_result"
    }
   ],
   "source": [
    "show_forecast()"
   ]
  },
  {
   "cell_type": "code",
   "execution_count": 183,
   "metadata": {},
   "outputs": [
    {
     "data": {
      "text/plain": [
       "plot_corr (generic function with 1 method)"
      ]
     },
     "execution_count": 183,
     "metadata": {},
     "output_type": "execute_result"
    }
   ],
   "source": [
    "using Statistics\n",
    "function plot_corr()\n",
    "    df = CSV.read(pearson_corr_csv)\n",
    "    output_dir = \"/home/appleparan/data/\" * case_name * \"/post/\"\n",
    "    plot_path = output_dir * \"pearson_corr\"\n",
    "    \n",
    "    dfM = convert(Matrix, df[:, :])\n",
    "    dfm_cor = Statistics.cor(dfM)\n",
    "    feas = names(df)\n",
    "    \n",
    "    ann = []\n",
    "    for i in 1:length(feas)\n",
    "    for j in 1:length(feas)\n",
    "        _ann = (i - 0.5, j - 0.5, Plots.text(format( df[i, j], precision=2), 18, :white))\n",
    "        push!(ann, _ann)\n",
    "    end\n",
    "    end\n",
    "    \n",
    "    crpl = Plots.heatmap(string.(feas), string.(feas), dfm_cor,\n",
    "        annotations = ann,\n",
    "        clim = (-1.0, 1.0), c=:blues, legend=true,\n",
    "        guidefontsize = 18, titlefontsize = 24, tickfontsize = 18, legendfontsize = 18, margin=15px,\n",
    "        guidefontcolor = LN_COLOR, titlefontcolor = LN_COLOR, tickfontcolor = LN_COLOR, legendfontcolor = LN_COLOR,\n",
    "        title=\"CORR\", background_color = BG_COLOR)\n",
    "\n",
    "    Plots.plot(crpl)\n",
    "    Plots.png(crpl, plot_path * \".png\")\n",
    "    Plots.svg(crpl, plot_path * \".svg\")\n",
    "end\n"
   ]
  },
  {
   "cell_type": "code",
   "execution_count": 184,
   "metadata": {},
   "outputs": [
    {
     "name": "stderr",
     "output_type": "stream",
     "text": [
      "GKS: invalid bitmap size\n"
     ]
    }
   ],
   "source": [
    "plot_corr()"
   ]
  },
  {
   "cell_type": "code",
   "execution_count": 186,
   "metadata": {},
   "outputs": [
    {
     "data": {
      "text/plain": [
       "plot_scatter (generic function with 1 method)"
      ]
     },
     "execution_count": 186,
     "metadata": {},
     "output_type": "execute_result"
    }
   ],
   "source": [
    "function plot_scatter(stn_code, stn_name, s_date::DateTime, f_date::DateTime, ycol::Symbol)\n",
    "    csv_24h_name = \"/home/appleparan/data/\" * case_name * \"/post/station/\" *\n",
    "            string(ycol) * \"_\" *\n",
    "            string(stn_code) * \"_\" *\n",
    "            stn_name * \"_plotdata_24h.csv\"\n",
    "    ycol_str = \"PM10\"\n",
    "    if ycol == :PM25\n",
    "        ycol_str = \"PM2.5\"\n",
    "    elseif ycol == :PM10\n",
    "        ycol_str = \"PM10\"\n",
    "    end\n",
    "    output_dir = \"/home/appleparan/data/\" * case_name * \"/post/\"\n",
    "\n",
    "    scatter_24h_path = output_dir *\n",
    "        string(ycol) * \"_\" *\n",
    "        string(stn_code) * \"_\" *\n",
    "        stn_name * \"_\" * \n",
    "        Dates.format(s_date + Dates.Hour(24), datefmt) * \"_\"  *\n",
    "        Dates.format(f_date + Dates.Hour(24), datefmt) * \"_24h_scatter\"\n",
    "    \n",
    "    df_24h_raw = CSV.read(csv_24h_name)\n",
    "    df_24h = @linq df_24h_raw |>\n",
    "        where(:dates .>= s_date + Dates.Hour(24) , :dates .<= f_date + Dates.Hour(24))\n",
    "# plot in dates\n",
    "    pl = Plots.plot(df_24h[:, :y],df_24h[:, :yhat],\n",
    "        ylim = (0.0,\n",
    "            max(maximum(df_24h[:, :y]), maximum(df_24h[:, :yhat]))),\n",
    "        line=:solid, linewidth=5, label=\"obs.\", xrotation=0,\n",
    "        guidefontsize = 24, titlefontsize = 32, tickfontsize = 24, legendfontsize = 24, margin=15px,\n",
    "        guidefontcolor = LN_COLOR, titlefontcolor = LN_COLOR, tickfontcolor = LN_COLOR, legendfontcolor = LN_COLOR,\n",
    "        background_color = BG_COLOR, color=LN01_COLOR,\n",
    "        title=ycol_str * \" in dates (24h) at \" * stn_name, \n",
    "        xlabel=\"date\", ylabel=ycol_str, legend=:top)\n",
    "    \n",
    "    Plots.png(pl, scatter_24h_path * \".png\")\n",
    "    Plots.svg(pl, scatter_24h_path * \".svg\")\n",
    "    #l = @layout [a ; b]\n",
    "    #Plots.plot(pl1, pl2, layout = l)\n",
    "end"
   ]
  },
  {
   "cell_type": "code",
   "execution_count": 187,
   "metadata": {},
   "outputs": [
    {
     "ename": "UndefVarError",
     "evalue": "UndefVarError: ycol not defined",
     "output_type": "error",
     "traceback": [
      "UndefVarError: ycol not defined",
      "",
      "Stacktrace:",
      " [1] plot_scatter() at ./In[186]:2",
      " [2] top-level scope at In[187]:1"
     ]
    }
   ],
   "source": [
    "plot_scatter( jongro_stncode, jongro_stnname, DateTime(2018, 4, 1, 0), DateTime(2018, 6, 30, 23), :PM10)"
   ]
  },
  {
   "cell_type": "code",
   "execution_count": null,
   "metadata": {},
   "outputs": [],
   "source": []
  }
 ],
 "metadata": {
  "kernelspec": {
   "display_name": "Julia 1.1.0",
   "language": "julia",
   "name": "julia-1.1"
  },
  "language_info": {
   "file_extension": ".jl",
   "mimetype": "application/julia",
   "name": "julia",
   "version": "1.1.1"
  }
 },
 "nbformat": 4,
 "nbformat_minor": 2
}
