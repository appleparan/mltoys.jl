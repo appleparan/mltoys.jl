{
 "cells": [
  {
   "cell_type": "code",
   "execution_count": 64,
   "metadata": {},
   "outputs": [
    {
     "ename": "Error",
     "evalue": "Explicit require of module is not allowed.",
     "output_type": "error",
     "traceback": [
      "/home/appleparan/src/MLToys.jl/node_modules/requirejs/bin/r.js:393",
      "        throw err;",
      "        ^",
      "",
      "Error: Explicit require of module is not allowed.",
      "    at makeError (/home/appleparan/src/MLToys.jl/node_modules/requirejs/bin/r.js:2484:19)",
      "    at Function.req.get (/home/appleparan/src/MLToys.jl/node_modules/requirejs/bin/r.js:2492:29)",
      "    at Object.localRequire [as require] (/home/appleparan/src/MLToys.jl/node_modules/requirejs/bin/r.js:1678:40)",
      "    at requirejs (/home/appleparan/src/MLToys.jl/node_modules/requirejs/bin/r.js:2047:24)",
      "    at evalmachine.<anonymous>:2:1",
      "    at Script.runInThisContext (vm.js:122:20)",
      "    at Object.runInThisContext (vm.js:329:38)",
      "    at run ([eval]:1054:15)",
      "    at onRunRequest ([eval]:888:18)",
      "    at onMessage ([eval]:848:13)"
     ]
    }
   ],
   "source": [
    "process.env.NODE_PATH = \"../node_modules\";\n",
    "require(\"module\").Module._initPaths();"
   ]
  },
  {
   "cell_type": "code",
   "execution_count": 79,
   "metadata": {},
   "outputs": [
    {
     "data": {
      "text/plain": [
       "'/mnt/post/station/station_stats.csv'"
      ]
     },
     "execution_count": 79,
     "metadata": {},
     "output_type": "execute_result"
    }
   ],
   "source": [
    "station_csv = \"/mnt/post/station/station_stats.csv\""
   ]
  },
  {
   "cell_type": "code",
   "execution_count": 65,
   "metadata": {
    "scrolled": true
   },
   "outputs": [
    {
     "data": {
      "text/plain": [
       "'https://cdnjs.cloudflare.com/ajax/libs/d3/5.9.7/d3.min.js'"
      ]
     },
     "execution_count": 65,
     "metadata": {},
     "output_type": "execute_result"
    }
   ],
   "source": [
    "plotly_path = 'https://cdnjs.cloudflare.com/ajax/libs/plotly.js/1.33.1/plotly.min.js'\n",
    "d3_path = 'https://cdnjs.cloudflare.com/ajax/libs/d3/5.9.7/d3.min.js'"
   ]
  },
  {
   "cell_type": "code",
   "execution_count": 66,
   "metadata": {},
   "outputs": [
    {
     "data": {
      "text/html": [
       "\n",
       "    <!DOCTYPE html>\n",
       "    <meta charset='utf-8'>\n",
       "    <head></head>\n",
       "    <body>\n",
       "        <div id='myDiv'>\n",
       "        </div>\n",
       "    </body>\n",
       "    "
      ]
     },
     "execution_count": 66,
     "metadata": {},
     "output_type": "execute_result"
    }
   ],
   "source": [
    "$$.html(`\n",
    "    <!DOCTYPE html>\n",
    "    <meta charset='utf-8'>\n",
    "    <head></head>\n",
    "    <body>\n",
    "        <div id='myDiv'>\n",
    "        </div>\n",
    "    </body>\n",
    "    `)"
   ]
  },
  {
   "cell_type": "code",
   "execution_count": 67,
   "metadata": {},
   "outputs": [],
   "source": [
    "var require = require('requirejs');\n",
    "var jsdom = require('jsdom')"
   ]
  },
  {
   "cell_type": "code",
   "execution_count": 68,
   "metadata": {},
   "outputs": [],
   "source": [
    "var Plotly = require('plotly-notebook-js');"
   ]
  },
  {
   "cell_type": "code",
   "execution_count": 69,
   "metadata": {},
   "outputs": [
    {
     "data": {
      "text/html": [
       "<div class='plotly-plot'><div id='notebook-plot-1561930299407'></div><script>function plot(){Plotly.plot('notebook-plot-1561930299407',[{\"x\":[1,2,3],\"y\":[3,4,5]}],{\"title\":\"Plotly in Jupyter!\"});}if(window.Plotly){plot();}else if(!window.require){var head = document.head || document.getElementsByTagName('head')[0];var s = document.createElement('script');s.src = 'https://cdn.plot.ly/plotly-latest.min.js';s.type = 'text/javascript';s.async = false;s.onreadystatechange = s.onload = plot;head.appendChild(s);}else{require(['/notebooks/node_modules/plotly-notebook-js/build/plotly.min.js'], function(Plotly){window.Plotly = Plotly;plot();});}</script></div>"
      ]
     },
     "execution_count": 69,
     "metadata": {},
     "output_type": "execute_result"
    }
   ],
   "source": [
    "var myPlot = Plotly.createPlot([{ x: [1,2,3], y: [3,4,5] }], { title: 'Plotly in Jupyter!' });\n",
    "\n",
    "$$html$$ = myPlot.render();"
   ]
  },
  {
   "cell_type": "code",
   "execution_count": 75,
   "metadata": {},
   "outputs": [],
   "source": [
    "function scattergeomarkers() {\n",
    "    // By default, geographic data is loaded asynchronously from\n",
    "    // the topojson subdirectory located at the root of the plotlyjs directory.\n",
    "    //\n",
    "    // To remove this asynchronous step, include:\n",
    "    // <script type='text/javascript' src='topojson/plotly-geo-assets.min.js'></script>\n",
    "    // after 'plotly.min.js'.\n",
    "    // Note that this bundle is quite large.\n",
    "    // Serving it from a network is not recommended.\n",
    "    //\n",
    "    // If you choose to rename or move the topojson subdirectory, include\n",
    "    // <script>PLOTLYENV={TOPOJSON_URL:'path/to/topojson/'};</script>\n",
    "    // after 'plotly.min.js'\n",
    "\n",
    "    var data = [{\n",
    "        type: 'scattergeo',\n",
    "        mode: 'markers+text',\n",
    "        text: [\n",
    "            'Montreal', 'Toronto', 'Vancouver', 'Calgary', 'Edmonton',\n",
    "            'Ottawa', 'Halifax', 'Victoria', 'Winnepeg', 'Regina'\n",
    "        ],\n",
    "        lon: [\n",
    "            -73.57, -79.24, -123.06, -114.1, -113.28,\n",
    "            -75.43, -63.57, -123.21, -97.13, -104.6\n",
    "        ],\n",
    "        lat: [\n",
    "            45.5, 43.4, 49.13, 51.1, 53.34, 45.24,\n",
    "            44.64, 48.25, 49.89, 50.45\n",
    "        ],\n",
    "        marker: {\n",
    "            size: 7,\n",
    "            color: [\n",
    "                '#bebada', '#fdb462', '#fb8072', '#d9d9d9', '#bc80bd',\n",
    "                '#b3de69', '#8dd3c7', '#80b1d3', '#fccde5', '#ffffb3'\n",
    "            ],\n",
    "            line: {\n",
    "                width: 1\n",
    "            }\n",
    "        },\n",
    "        name: 'Canadian cities',\n",
    "        textposition: [\n",
    "            'top right', 'top left', 'top center', 'bottom right', 'top right',\n",
    "            'top left', 'bottom right', 'bottom left', 'top right', 'top right'\n",
    "        ],\n",
    "    }];\n",
    "\n",
    "    var layout = {\n",
    "        title: 'Canadian cities',\n",
    "        font: {\n",
    "            family: 'Droid Serif, serif',\n",
    "            size: 6\n",
    "        },\n",
    "        titlefont: {\n",
    "            size: 16\n",
    "        },\n",
    "        geo: {\n",
    "            scope: 'north america',\n",
    "            resolution: 50,\n",
    "            lonaxis: {\n",
    "                'range': [-130, -55]\n",
    "            },\n",
    "            lataxis: {\n",
    "                'range': [40, 70]\n",
    "            },\n",
    "            showrivers: true,\n",
    "            rivercolor: '#fff',\n",
    "            showlakes: true,\n",
    "            lakecolor: '#fff',\n",
    "            showland: true,\n",
    "            landcolor: '#EAEAAE',\n",
    "            countrycolor: '#d3d3d3',\n",
    "            countrywidth: 1.5,\n",
    "            subunitcolor: '#d3d3d3'\n",
    "        }\n",
    "    };\n",
    "    var myPlot = Plotly.createPlot(data, layout)\n",
    "    $$html$$ = myPlot.render();\n",
    "}"
   ]
  },
  {
   "cell_type": "code",
   "execution_count": 76,
   "metadata": {},
   "outputs": [
    {
     "data": {
      "text/html": [
       "<div class='plotly-plot'><div id='notebook-plot-1561930475227'></div><script>function plot(){Plotly.plot('notebook-plot-1561930475227',[{\"type\":\"scattergeo\",\"mode\":\"markers+text\",\"text\":[\"Montreal\",\"Toronto\",\"Vancouver\",\"Calgary\",\"Edmonton\",\"Ottawa\",\"Halifax\",\"Victoria\",\"Winnepeg\",\"Regina\"],\"lon\":[-73.57,-79.24,-123.06,-114.1,-113.28,-75.43,-63.57,-123.21,-97.13,-104.6],\"lat\":[45.5,43.4,49.13,51.1,53.34,45.24,44.64,48.25,49.89,50.45],\"marker\":{\"size\":7,\"color\":[\"#bebada\",\"#fdb462\",\"#fb8072\",\"#d9d9d9\",\"#bc80bd\",\"#b3de69\",\"#8dd3c7\",\"#80b1d3\",\"#fccde5\",\"#ffffb3\"],\"line\":{\"width\":1}},\"name\":\"Canadian cities\",\"textposition\":[\"top right\",\"top left\",\"top center\",\"bottom right\",\"top right\",\"top left\",\"bottom right\",\"bottom left\",\"top right\",\"top right\"]}],{\"title\":\"Canadian cities\",\"font\":{\"family\":\"Droid Serif, serif\",\"size\":6},\"titlefont\":{\"size\":16},\"geo\":{\"scope\":\"north america\",\"resolution\":50,\"lonaxis\":{\"range\":[-130,-55]},\"lataxis\":{\"range\":[40,70]},\"showrivers\":true,\"rivercolor\":\"#fff\",\"showlakes\":true,\"lakecolor\":\"#fff\",\"showland\":true,\"landcolor\":\"#EAEAAE\",\"countrycolor\":\"#d3d3d3\",\"countrywidth\":1.5,\"subunitcolor\":\"#d3d3d3\"}});}if(window.Plotly){plot();}else if(!window.require){var head = document.head || document.getElementsByTagName('head')[0];var s = document.createElement('script');s.src = 'https://cdn.plot.ly/plotly-latest.min.js';s.type = 'text/javascript';s.async = false;s.onreadystatechange = s.onload = plot;head.appendChild(s);}else{require(['/notebooks/node_modules/plotly-notebook-js/build/plotly.min.js'], function(Plotly){window.Plotly = Plotly;plot();});}</script></div>"
      ]
     },
     "execution_count": 76,
     "metadata": {},
     "output_type": "execute_result"
    }
   ],
   "source": [
    " scattergeomarkers()"
   ]
  },
  {
   "cell_type": "code",
   "execution_count": 82,
   "metadata": {},
   "outputs": [],
   "source": [
    "var DataFrame = require('dataframe-js').DataFrame;"
   ]
  },
  {
   "cell_type": "code",
   "execution_count": 101,
   "metadata": {},
   "outputs": [],
   "source": [
    "function getData(df, ycol) {\n",
    "    df_ycol = df.filter(row => row.get('colname') == ycol);\n",
    "    console.log(df_ycol.select('lon').toArray());\n",
    "    var data = [{\n",
    "        type: 'scattergeo',\n",
    "        mode: 'markers+text',\n",
    "        text: df_ycol.select('name').toArray(),\n",
    "        lon: df_ycol.select('lon').toArray(),\n",
    "        lat: df_ycol.select('lat').toArray(),\n",
    "        marker: {\n",
    "            size: 7,\n",
    "        },\n",
    "        name: ycol,\n",
    "    }];\n",
    "    \n",
    "    return data;\n",
    "}\n",
    "\n",
    "function getLayout(ycol) {\n",
    "         var layout = {\n",
    "        title: ycol,\n",
    "        font: {\n",
    "            family: 'NanumGothic, san-serif',\n",
    "            size: 6\n",
    "        },\n",
    "        titlefont: {\n",
    "            size: 16\n",
    "        },\n",
    "        geo: {\n",
    "            scope: 'asia',\n",
    "            resolution: 100,\n",
    "            lonaxis: {\n",
    "                'range': [37.032600, 38.032600]\n",
    "            },\n",
    "            lataxis: {\n",
    "                'range': [126.5, 127.5]\n",
    "            },\n",
    "            showrivers: true,\n",
    "            rivercolor: '#fff',\n",
    "            showlakes: true,\n",
    "            lakecolor: '#fff',\n",
    "            showland: true,\n",
    "            landcolor: '#EAEAAE',\n",
    "            countrycolor: '#d3d3d3',\n",
    "            countrywidth: 1.5,\n",
    "            subunitcolor: '#d3d3d3'\n",
    "        }\n",
    "    };\n",
    "    \n",
    "    return layout;\n",
    "}"
   ]
  },
  {
   "cell_type": "code",
   "execution_count": 102,
   "metadata": {},
   "outputs": [
    {
     "name": "stdout",
     "output_type": "stream",
     "text": [
      "[ [ '126.97466' ],\n",
      "  [ '127.00499' ],\n",
      "  [ '127.00482' ],\n",
      "  [ '127.09248' ],\n",
      "  [ '127.04186' ],\n",
      "  [ '127.09401' ],\n",
      "  [ '127.02889' ],\n",
      "  [ '127.02728' ],\n",
      "  [ '127.029' ],\n",
      "  [ '126.93484' ],\n",
      "  [ '126.9378' ],\n",
      "  [ '126.94556' ],\n",
      "  [ '126.83514' ],\n",
      "  [ '126.88968' ],\n",
      "  [ '126.89737' ],\n",
      "  [ '126.97146' ],\n",
      "  [ '126.92709' ],\n",
      "  [ '127.04805' ],\n",
      "  [ '126.99446' ],\n",
      "  [ '127.1165' ],\n",
      "  [ '127.1368' ],\n",
      "  [ '126.9083' ],\n",
      "  [ '127.02884166666666' ],\n",
      "  [ '126.85870555555555' ],\n",
      "  [ '127.06788' ] ]\n"
     ]
    },
    {
     "data": {
      "text/html": [
       "<div class='plotly-plot'><div id='notebook-plot-1561952869901'></div><script>function plot(){Plotly.plot('notebook-plot-1561952869901',[{\"type\":\"scattergeo\",\"mode\":\"markers+text\",\"text\":[[\"중구\"],[\"종로구\"],[\"용산구\"],[\"광진구\"],[\"성동구\"],[\"중랑구\"],[\"동대문구\"],[\"성북구\"],[\"도봉구\"],[\"은평구\"],[\"서대문구\"],[\"마포구\"],[\"강서구\"],[\"구로구\"],[\"영등포구\"],[\"동작구\"],[\"관악구\"],[\"강남구\"],[\"서초구\"],[\"송파구\"],[\"강동구\"],[\"금천구\"],[\"강북구\"],[\"양천구\"],[\"노원구\"]],\"lon\":[[\"126.97466\"],[\"127.00499\"],[\"127.00482\"],[\"127.09248\"],[\"127.04186\"],[\"127.09401\"],[\"127.02889\"],[\"127.02728\"],[\"127.029\"],[\"126.93484\"],[\"126.9378\"],[\"126.94556\"],[\"126.83514\"],[\"126.88968\"],[\"126.89737\"],[\"126.97146\"],[\"126.92709\"],[\"127.04805\"],[\"126.99446\"],[\"127.1165\"],[\"127.1368\"],[\"126.9083\"],[\"127.02884166666666\"],[\"126.85870555555555\"],[\"127.06788\"]],\"lat\":[[\"37.56431\"],[\"37.57203\"],[\"37.54004\"],[\"37.5472\"],[\"37.5432\"],[\"37.58486\"],[\"37.57575\"],[\"37.60673\"],[\"37.6542\"],[\"37.60983\"],[\"37.5767\"],[\"37.54978\"],[\"37.54466\"],[\"37.49853\"],[\"37.52504\"],[\"37.48094\"],[\"37.48738\"],[\"37.51756\"],[\"37.50456\"],[\"37.52182\"],[\"37.545\"],[\"37.45239\"],[\"37.63785277777778\"],[\"37.5234\"],[\"37.65742\"]],\"marker\":{\"size\":7},\"name\":\"PM10\"}],{\"title\":\"PM10\",\"font\":{\"family\":\"NanumGothic, san-serif\",\"size\":6},\"titlefont\":{\"size\":16},\"geo\":{\"scope\":\"asia\",\"resolution\":100,\"lonaxis\":{\"range\":[37.0326,38.0326]},\"lataxis\":{\"range\":[126.024612,128.024612]},\"showrivers\":true,\"rivercolor\":\"#fff\",\"showlakes\":true,\"lakecolor\":\"#fff\",\"showland\":true,\"landcolor\":\"#EAEAAE\",\"countrycolor\":\"#d3d3d3\",\"countrywidth\":1.5,\"subunitcolor\":\"#d3d3d3\"}});}if(window.Plotly){plot();}else if(!window.require){var head = document.head || document.getElementsByTagName('head')[0];var s = document.createElement('script');s.src = 'https://cdn.plot.ly/plotly-latest.min.js';s.type = 'text/javascript';s.async = false;s.onreadystatechange = s.onload = plot;head.appendChild(s);}else{require(['/notebooks/node_modules/plotly-notebook-js/build/plotly.min.js'], function(Plotly){window.Plotly = Plotly;plot();});}</script></div>"
      ]
     },
     "execution_count": 102,
     "metadata": {},
     "output_type": "execute_result"
    }
   ],
   "source": [
    "DataFrame.fromCSV(station_csv)\n",
    "    .then(df => {\n",
    "        const ycol = \"PM10\";\n",
    "        const data = getData(df, ycol);\n",
    "        const layout = getLayout(ycol);\n",
    "        var myPlot = Plotly.createPlot(data, layout)\n",
    "        $$html$$ = myPlot.render();\n",
    "    })\n",
    "    .catch(error => console.error(error))"
   ]
  },
  {
   "cell_type": "code",
   "execution_count": null,
   "metadata": {},
   "outputs": [],
   "source": []
  }
 ],
 "metadata": {
  "kernelspec": {
   "display_name": "Javascript (Node.js)",
   "language": "javascript",
   "name": "javascript"
  },
  "language_info": {
   "file_extension": ".js",
   "mimetype": "application/javascript",
   "name": "javascript",
   "version": "10.16.0"
  }
 },
 "nbformat": 4,
 "nbformat_minor": 2
}
