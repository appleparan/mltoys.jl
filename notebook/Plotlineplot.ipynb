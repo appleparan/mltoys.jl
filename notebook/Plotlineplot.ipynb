{
 "cells": [
  {
   "cell_type": "code",
   "execution_count": 1,
   "metadata": {},
   "outputs": [
    {
     "data": {
      "text/html": [
       "<style>\n",
       "@import url('https://fonts.googleapis.com/css?family=Nanum+Gothic&display=swap');\n",
       "body {\n",
       "    font-family:'Nanum Gothic', sans-serif;\n",
       "}\n",
       "</style>\n"
      ],
      "text/plain": [
       "HTML{String}(\"<style>\\n@import url('https://fonts.googleapis.com/css?family=Nanum+Gothic&display=swap');\\nbody {\\n    font-family:'Nanum Gothic', sans-serif;\\n}\\n</style>\\n\")"
      ]
     },
     "execution_count": 1,
     "metadata": {},
     "output_type": "execute_result"
    }
   ],
   "source": [
    "HTML(\"\"\"\n",
    "<style>\n",
    "@import url('https://fonts.googleapis.com/css?family=Nanum+Gothic&display=swap');\n",
    "body {\n",
    "    font-family:'Nanum Gothic', sans-serif;\n",
    "}\n",
    "</style>\n",
    "\"\"\"\n",
    ")"
   ]
  },
  {
   "cell_type": "code",
   "execution_count": 2,
   "metadata": {
    "scrolled": false
   },
   "outputs": [
    {
     "data": {
      "text/plain": [
       "Plots.PyPlotBackend()"
      ]
     },
     "execution_count": 2,
     "metadata": {},
     "output_type": "execute_result"
    }
   ],
   "source": [
    "using Statistics\n",
    "using Dates, TimeZones\n",
    "using CSV, DataFrames, DataFramesMeta\n",
    "using Plots, Plots.PlotMeasures\n",
    "using PyPlot\n",
    "using Formatting\n",
    "pyplot()"
   ]
  },
  {
   "cell_type": "code",
   "execution_count": 3,
   "metadata": {},
   "outputs": [],
   "source": [
    "nanum12 = Plots.font(family=\"NanumGothic\", pointsize=12)\n",
    "nanum14 = Plots.font(family=\"NanumGothic\", pointsize=14)\n",
    "nanum18 = Plots.font(family=\"NanumGothic\", pointsize=18)\n",
    "nanum24 = Plots.font(family=\"NanumGothic\", pointsize=24)\n",
    "default(titlefont=nanum24, guidefont=nanum18, tickfont=nanum18, legendfont=nanum18)"
   ]
  },
  {
   "cell_type": "code",
   "execution_count": 4,
   "metadata": {},
   "outputs": [
    {
     "data": {
      "text/plain": [
       "25-element Array{String,1}:\n",
       " \"중구\"  \n",
       " \"종로구\" \n",
       " \"용산구\" \n",
       " \"광진구\" \n",
       " \"성동구\" \n",
       " \"중랑구\" \n",
       " \"동대문구\"\n",
       " \"성북구\" \n",
       " \"도봉구\" \n",
       " \"은평구\" \n",
       " \"서대문구\"\n",
       " \"마포구\" \n",
       " \"강서구\" \n",
       " \"구로구\" \n",
       " \"영등포구\"\n",
       " \"동작구\" \n",
       " \"관악구\" \n",
       " \"강남구\" \n",
       " \"서초구\" \n",
       " \"송파구\" \n",
       " \"강동구\" \n",
       " \"금천구\" \n",
       " \"강북구\" \n",
       " \"양천구\" \n",
       " \"노원구\" "
      ]
     },
     "execution_count": 4,
     "metadata": {},
     "output_type": "execute_result"
    }
   ],
   "source": [
    "stn_codes = [111121, 111123, 111131, 111141, 111142,\n",
    "    111151, 111152, 111161, 111171, 111181,\n",
    "    111191, 111201, 111212, 111221, 111231,\n",
    "    111241, 111251, 111261, 111262, 111273,\n",
    "    111274, 111281, 111291, 111301, 111311]\n",
    "stn_names = [\"중구\", \"종로구\", \"용산구\", \"광진구\", \"성동구\",\n",
    "    \"중랑구\", \"동대문구\", \"성북구\", \"도봉구\", \"은평구\",\n",
    "    \"서대문구\", \"마포구\", \"강서구\", \"구로구\", \"영등포구\",\n",
    "    \"동작구\", \"관악구\", \"강남구\", \"서초구\", \"송파구\",\n",
    "    \"강동구\", \"금천구\", \"강북구\", \"양천구\", \"노원구\"]"
   ]
  },
  {
   "cell_type": "code",
   "execution_count": 59,
   "metadata": {},
   "outputs": [
    {
     "data": {
      "text/plain": [
       "5"
      ]
     },
     "execution_count": 59,
     "metadata": {},
     "output_type": "execute_result"
    }
   ],
   "source": [
    "case_name = \"test\"\n",
    "zoom_mindate = DateTime(2018, 1, 1, 1)\n",
    "zoom_maxdate = DateTime(2018, 12, 31, 23)\n",
    "zoom_sdate = DateTime(2018, 7, 1, 1)\n",
    "zoom_fdate = DateTime(2018, 7, 10, 23)\n",
    "zoom_sdate2 = DateTime(2018, 11, 1, 1)\n",
    "zoom_fdate2 = DateTime(2018, 11, 10, 23)\n",
    "jongro_stncode = 111123\n",
    "jongro_stnname = \"종로구\"\n",
    "jongro_idx = 2\n",
    "seongbuk_stncode =  111161\n",
    "seongbuk_stnname = \"성북구\"\n",
    "seongbuk_idx = 8\n",
    "songpa_stncode = 111273\n",
    "songpa_stnname = \"송파구\"\n",
    "seongbuk_idx = 20\n",
    "gangseo_stncode = 111212\n",
    "gangseo_stnname = \"강서구\"\n",
    "seongbuk_idx = 13\n",
    "seongdong_idx = 5"
   ]
  },
  {
   "cell_type": "code",
   "execution_count": 60,
   "metadata": {},
   "outputs": [
    {
     "data": {
      "text/plain": [
       "\"/home/appleparan/data/test/pearson_corr.csv\""
      ]
     },
     "execution_count": 60,
     "metadata": {},
     "output_type": "execute_result"
    }
   ],
   "source": [
    "jongro_raw_csv = \"/home/appleparan/input/jongro_single.csv\"\n",
    "feature_csv = \"/home/appleparan/data/\" * case_name * \"/post/feature/feature_stats.csv\"\n",
    "station_csv = \"/home/appleparan/data/\" * case_name * \"/post/station/station_stats.csv\"\n",
    "forecast_csv = \"/home/appleparan/data/\" * case_name * \"/post/forecast/forecast_stats.csv\"\n",
    "pearson_corr_csv = \"/home/appleparan/data/\" * case_name * \"/pearson_corr.csv\""
   ]
  },
  {
   "cell_type": "code",
   "execution_count": 61,
   "metadata": {},
   "outputs": [
    {
     "data": {
      "text/plain": [
       "\"yyyymmddHH\""
      ]
     },
     "execution_count": 61,
     "metadata": {},
     "output_type": "execute_result"
    }
   ],
   "source": [
    "ENV[\"GKSwstype\"] = \"100\"\n",
    "ENV[\"GKS_ENCODING\"] = \"utf-8\"\n",
    "const BG_COLOR = RGB(255/255, 255/255, 255/255)\n",
    "const LN_COLOR = RGB(67/255, 75/255, 86/255)\n",
    "const MK_COLOR = RGB(67/255, 75/255, 86/255)\n",
    "const LN01_COLOR = RGB(202/255,0/255,32/255)\n",
    "const LN02_COLOR = RGB(5/255,113/255,176/255)\n",
    "const FL01_COLOR = RGB(239/255, 138/255, 98/255)\n",
    "const FL02_COLOR = RGB(103/255, 169/255, 207/255)\n",
    "const datefmt = \"yyyymmddHH\"    "
   ]
  },
  {
   "cell_type": "markdown",
   "metadata": {},
   "source": [
    "# Zoomed Plot"
   ]
  },
  {
   "cell_type": "code",
   "execution_count": 62,
   "metadata": {},
   "outputs": [
    {
     "data": {
      "text/plain": [
       "plot_DNN_lineplot (generic function with 1 method)"
      ]
     },
     "execution_count": 62,
     "metadata": {},
     "output_type": "execute_result"
    }
   ],
   "source": [
    "function plot_DNN_lineplot(s_date::DateTime, f_date::DateTime, ycol::Symbol)\n",
    "    csv_in_name = jongro_raw_csv\n",
    "    ycol_str = \"PM10\"\n",
    "    if ycol == :PM25\n",
    "        ycol_str = \"PM2.5\"\n",
    "    elseif ycol == :PM10\n",
    "        ycol_str = \"PM10\"\n",
    "    end\n",
    "    #output_dir = \"/home/appleparan/data/\" * case_name * \"/post/\"\n",
    "    output_dir = \"/home/appleparan/data/\" * case_name * \"/post/\"\n",
    "    line_out_path = output_dir *\n",
    "        string(ycol) * \"_\" *\n",
    "        \"rawinput_\" *\n",
    "        Dates.format(s_date + Dates.Hour(24), datefmt) * \"_\"  *\n",
    "        Dates.format(f_date + Dates.Hour(24), datefmt) \n",
    "    \n",
    "    df_raw = CSV.read(csv_in_name, copycols=true)\n",
    "    df_raw[:, :date] = DateTime.(ZonedDateTime.(df_raw[:, :date], \"yyyy-mm-ddTHH:MM:SS.ssszzzz\"))\n",
    "    df_indates = @linq df_raw |>\n",
    "        where(:date .>= s_date + Dates.Hour(1) , :date .<= f_date + Dates.Hour(1))\n",
    "    \n",
    "    # plot in dates\n",
    "    gr(size = (2560, 1080))\n",
    "    pl1 = Plots.plot(df_indates[:, :date], df_indates[:, ycol],\n",
    "        ylim = (0.0,maximum(df_indates[:, ycol])),\n",
    "        line=:solid, linewidth=5, label=\"$(string(ycol))\",\n",
    "        guidefontsize = 18, titlefontsize = 24, tickfontsize = 18, legendfontsize = 18, margin=15px,\n",
    "        guidefontcolor = LN_COLOR, titlefontcolor = LN_COLOR, tickfontcolor = LN_COLOR, legendfontcolor = LN_COLOR,\n",
    "        background_color = BG_COLOR, color=LN01_COLOR,\n",
    "        title=ycol_str, \n",
    "        xlabel=\"date\", ylabel=ycol_str, legend=:top)\n",
    "\n",
    "    Plots.png(pl1, line_out_path * \".png\")\n",
    "    Plots.svg(pl1, line_out_path * \".svg\")\n",
    "\n",
    "    l = @layout [a ; b]\n",
    "    #Plots.plot(pl1, pl2, layout = l)\n",
    "end"
   ]
  },
  {
   "cell_type": "code",
   "execution_count": 68,
   "metadata": {},
   "outputs": [
    {
     "data": {
      "text/plain": [
       "Plots.GridLayout(2, 1)"
      ]
     },
     "execution_count": 68,
     "metadata": {},
     "output_type": "execute_result"
    }
   ],
   "source": [
    "plot_DNN_lineplot( DateTime(2018, 1, 1, 1), DateTime(2018, 12, 31, 23), :PM10)\n",
    "plot_DNN_lineplot( DateTime(2018, 1, 1, 1), DateTime(2018, 12, 31, 23), :PM25)"
   ]
  },
  {
   "cell_type": "code",
   "execution_count": 69,
   "metadata": {},
   "outputs": [
    {
     "data": {
      "text/plain": [
       "Plots.GridLayout(2, 1)"
      ]
     },
     "execution_count": 69,
     "metadata": {},
     "output_type": "execute_result"
    }
   ],
   "source": [
    "plot_DNN_lineplot( DateTime(2017, 1, 1, 1), DateTime(2017, 12, 31, 23), :PM10)\n",
    "plot_DNN_lineplot( DateTime(2017, 1, 1, 1), DateTime(2017, 12, 31, 23), :PM25)"
   ]
  },
  {
   "cell_type": "code",
   "execution_count": 70,
   "metadata": {},
   "outputs": [
    {
     "data": {
      "text/plain": [
       "Plots.GridLayout(2, 1)"
      ]
     },
     "execution_count": 70,
     "metadata": {},
     "output_type": "execute_result"
    }
   ],
   "source": [
    "plot_DNN_lineplot( DateTime(2016, 1, 1, 1), DateTime(2016, 12, 31, 23), :PM10)\n",
    "plot_DNN_lineplot( DateTime(2016, 1, 1, 1), DateTime(2016, 12, 31, 23), :PM25)"
   ]
  },
  {
   "cell_type": "code",
   "execution_count": 71,
   "metadata": {},
   "outputs": [
    {
     "data": {
      "text/plain": [
       "Plots.GridLayout(2, 1)"
      ]
     },
     "execution_count": 71,
     "metadata": {},
     "output_type": "execute_result"
    }
   ],
   "source": [
    "plot_DNN_lineplot( DateTime(2015, 1, 1, 1), DateTime(2015, 12, 31, 23), :PM10)\n",
    "plot_DNN_lineplot( DateTime(2015, 1, 1, 1), DateTime(2015, 12, 31, 23), :PM25)"
   ]
  },
  {
   "cell_type": "code",
   "execution_count": 72,
   "metadata": {},
   "outputs": [
    {
     "data": {
      "text/plain": [
       "Plots.GridLayout(2, 1)"
      ]
     },
     "execution_count": 72,
     "metadata": {},
     "output_type": "execute_result"
    }
   ],
   "source": [
    "plot_DNN_lineplot( DateTime(2014, 1, 1, 1), DateTime(2014, 12, 31, 23), :PM10)\n",
    "plot_DNN_lineplot( DateTime(2014, 1, 1, 1), DateTime(2014, 12, 31, 23), :PM25)"
   ]
  },
  {
   "cell_type": "code",
   "execution_count": null,
   "metadata": {},
   "outputs": [],
   "source": []
  }
 ],
 "metadata": {
  "kernelspec": {
   "display_name": "Julia 1.1.0",
   "language": "julia",
   "name": "julia-1.1"
  },
  "language_info": {
   "file_extension": ".jl",
   "mimetype": "application/julia",
   "name": "julia",
   "version": "1.1.1"
  }
 },
 "nbformat": 4,
 "nbformat_minor": 2
}
